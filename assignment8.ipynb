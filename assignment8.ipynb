{
 "cells": [
  {
   "cell_type": "markdown",
   "metadata": {},
   "source": [
    "# Assignment 8\n",
    "\n",
    "Plotting with `matplotlib`\n",
    "\n",
    "# Problem 1\n",
    "\n",
    "Use the data in [poro_perm.dat](poro_perm.dat) to reproduce the following plot with `matplotlib` in Python.\n",
    "\n",
    "![image](poro_perm_gold.png)\n",
    "\n",
    "Since you've already developed fitting routines in [Assignment 7](https://github.com/PGE334-Fall2018/assignment7/) you should use them to perform the analysis on the data.  To avoid having to reproduce or copy the code from Assignment 7, you can load the class directly.  First, from the Terminal command line, run the following command to convert the Jupyter notebook into a regular Python file\n",
    "\n",
    "```bash\n",
    "jupyter nbconvert assignment7.ipynb --to python\n",
    "```\n",
    "\n",
    "then move the newly created `assignment7.py` into this repository, i.e. the same location as `assignment8.ipynb` and execute the following line in this notebook\n",
    "\n",
    "```python\n",
    "from assignment7 import KozenyCarmen\n",
    "```\n",
    "\n",
    "This will load the `KozenyCarmen` class directly into the namespace of the notebook and it will be available for use.  If you use this approach, don't forget to add `assignment7.py` to this repository when you commit your final solution for testing.\n",
    "\n",
    "Please note that the plot must be **exactly the same** in order for the tests to pass, so take care to note the small details.  Here are a couple of tips:\n",
    "\n",
    " * For plotting the fit lines, use a Numpy `linspace` that goes from 0 to 0.012 with 50 points.\n",
    " \n",
    " * The $\\LaTeX$ source for the $x$-axis label is `\\frac{\\phi^3}{(1-\\phi)^2}`.  It shouldn't be too difficult for you to figure out the $y$-axis label.\n",
    " \n",
    " * Because it is the output files with `*.png` file extensions that are actually being compared in the tests, you should not use the `%matplotlib inline` command to view your plots because of subtle differences in the way plots are rendered in the notebook compared with how they are output.  If you want to see the exact `*.png` representation in the notebook, you can temporarilty add something like `plt.savefig('kc.png')` to the end of your plotting function and then view the created plot from the Jupyter notebook by creating a Markdown cell and executing `![](kc.png)` in that cell.  Additionally, you'll want to import matplotlib and issue the commnad `matplotlib.use('agg')` to ensure you are running the same plotting backend locally as the test harness is using.\n",
    " \n",
    " * Do not modify the default size of the plot in any way\n",
    " \n",
    " * **Again!  Please Note** You must remove or comment out the line `%matplotlib inline` (if you used it) before committing your final solution or the tests will surely fail."
   ]
  },
  {
   "cell_type": "code",
   "execution_count": 1,
   "metadata": {},
   "outputs": [],
   "source": [
    "import matplotlib\n",
    "matplotlib.use('agg')\n",
    "import matplotlib.pyplot as plt\n"
   ]
  },
  {
   "cell_type": "code",
   "execution_count": 26,
   "metadata": {
    "collapsed": true
   },
   "outputs": [],
   "source": [
    "def kozeny_carmen_plot(filename):\n",
    "    \n",
    "    return"
   ]
  },
  {
   "cell_type": "markdown",
   "metadata": {},
   "source": [
    "#### Problem 2\n",
    "\n",
    "Complete the function below to create the following contour plot.\n",
    "\n",
    "![image](Nechelik_gold.png)\n",
    "\n",
    "Read in the [Nechelik.dat](Nechelik.dat) file which contains actual, estimated porosity of a field at equally spaced $x$,$y$ positions in the reservoir. Note that there are $54$ grid blocks/porosity values in the $x$ direction and $44$ in the $y$ direction i.e. you need a $44 \\times 54$ porosity matrix. Each grid block is a square with sides $130.75$ ft.\n",
    "\n",
    "As in Problem 1, the plot must be **exactly the same** for the tests to pass.  Refer to the tips above, and be sure to set the aspect ratio of the plot to `'equal'`."
   ]
  },
  {
   "cell_type": "code",
   "execution_count": 5,
   "metadata": {
    "collapsed": true
   },
   "outputs": [],
   "source": [
    "def contour_plot(filename):\n",
    "    \n",
    "    return"
   ]
  }
 ],
 "metadata": {
  "kernelspec": {
   "display_name": "Python 3",
   "language": "python",
   "name": "python3"
  },
  "language_info": {
   "codemirror_mode": {
    "name": "ipython",
    "version": 3
   },
   "file_extension": ".py",
   "mimetype": "text/x-python",
   "name": "python",
   "nbconvert_exporter": "python",
   "pygments_lexer": "ipython3",
   "version": "3.6.5"
  }
 },
 "nbformat": 4,
 "nbformat_minor": 2
}
